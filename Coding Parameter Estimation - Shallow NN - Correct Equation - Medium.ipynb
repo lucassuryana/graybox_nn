{
 "cells": [
  {
   "cell_type": "markdown",
   "id": "dirty-tucson",
   "metadata": {},
   "source": [
    "# Coding parameter estimation\n",
    "\n",
    "Given an equation below:\n",
    "\n",
    "$$f(A) = 265 + x_{1} + x_{2} + \\log(A)x_{3}$$"
   ]
  },
  {
   "cell_type": "markdown",
   "id": "legendary-regression",
   "metadata": {},
   "source": [
    "## Call Data\n",
    "\n",
    "### Import packages\n",
    "Import all related packages to find the parameter values"
   ]
  },
  {
   "cell_type": "code",
   "execution_count": 41,
   "id": "special-cheat",
   "metadata": {},
   "outputs": [
    {
     "name": "stdout",
     "output_type": "stream",
     "text": [
      "The autoreload extension is already loaded. To reload it, use:\n",
      "  %reload_ext autoreload\n"
     ]
    }
   ],
   "source": [
    "import numpy as np\n",
    "import copy\n",
    "import matplotlib as mpl\n",
    "import matplotlib.pyplot as plt\n",
    "import h5py\n",
    "import scipy\n",
    "from scipy import ndimage\n",
    "import pandas as pd\n",
    "from sklearn.model_selection import train_test_split\n",
    "\n",
    "%matplotlib inline\n",
    "%load_ext autoreload\n",
    "%autoreload 2"
   ]
  },
  {
   "cell_type": "markdown",
   "id": "forward-colony",
   "metadata": {},
   "source": [
    "### Call dataset\n",
    "Call dataset that will be inserted into neural network"
   ]
  },
  {
   "cell_type": "code",
   "execution_count": 107,
   "id": "contemporary-landscape",
   "metadata": {},
   "outputs": [
    {
     "data": {
      "text/html": [
       "<div>\n",
       "<style scoped>\n",
       "    .dataframe tbody tr th:only-of-type {\n",
       "        vertical-align: middle;\n",
       "    }\n",
       "\n",
       "    .dataframe tbody tr th {\n",
       "        vertical-align: top;\n",
       "    }\n",
       "\n",
       "    .dataframe thead th {\n",
       "        text-align: right;\n",
       "    }\n",
       "</style>\n",
       "<table border=\"1\" class=\"dataframe\">\n",
       "  <thead>\n",
       "    <tr style=\"text-align: right;\">\n",
       "      <th></th>\n",
       "      <th>A</th>\n",
       "      <th>f(A)</th>\n",
       "    </tr>\n",
       "  </thead>\n",
       "  <tbody>\n",
       "    <tr>\n",
       "      <th>0</th>\n",
       "      <td>0.002</td>\n",
       "      <td>106.632</td>\n",
       "    </tr>\n",
       "    <tr>\n",
       "      <th>1</th>\n",
       "      <td>0.004</td>\n",
       "      <td>106.632</td>\n",
       "    </tr>\n",
       "    <tr>\n",
       "      <th>2</th>\n",
       "      <td>0.006</td>\n",
       "      <td>106.632</td>\n",
       "    </tr>\n",
       "    <tr>\n",
       "      <th>3</th>\n",
       "      <td>0.008</td>\n",
       "      <td>106.632</td>\n",
       "    </tr>\n",
       "    <tr>\n",
       "      <th>4</th>\n",
       "      <td>0.010</td>\n",
       "      <td>106.632</td>\n",
       "    </tr>\n",
       "    <tr>\n",
       "      <th>...</th>\n",
       "      <td>...</td>\n",
       "      <td>...</td>\n",
       "    </tr>\n",
       "    <tr>\n",
       "      <th>1048569</th>\n",
       "      <td>2097.142</td>\n",
       "      <td>136.956</td>\n",
       "    </tr>\n",
       "    <tr>\n",
       "      <th>1048570</th>\n",
       "      <td>2097.144</td>\n",
       "      <td>136.956</td>\n",
       "    </tr>\n",
       "    <tr>\n",
       "      <th>1048571</th>\n",
       "      <td>2097.146</td>\n",
       "      <td>136.956</td>\n",
       "    </tr>\n",
       "    <tr>\n",
       "      <th>1048572</th>\n",
       "      <td>2097.148</td>\n",
       "      <td>136.956</td>\n",
       "    </tr>\n",
       "    <tr>\n",
       "      <th>1048573</th>\n",
       "      <td>2097.150</td>\n",
       "      <td>136.956</td>\n",
       "    </tr>\n",
       "  </tbody>\n",
       "</table>\n",
       "<p>1048574 rows × 2 columns</p>\n",
       "</div>"
      ],
      "text/plain": [
       "                A     f(A)\n",
       "0           0.002  106.632\n",
       "1           0.004  106.632\n",
       "2           0.006  106.632\n",
       "3           0.008  106.632\n",
       "4           0.010  106.632\n",
       "...           ...      ...\n",
       "1048569  2097.142  136.956\n",
       "1048570  2097.144  136.956\n",
       "1048571  2097.146  136.956\n",
       "1048572  2097.148  136.956\n",
       "1048573  2097.150  136.956\n",
       "\n",
       "[1048574 rows x 2 columns]"
      ]
     },
     "execution_count": 107,
     "metadata": {},
     "output_type": "execute_result"
    }
   ],
   "source": [
    "data = pd.read_csv('data_nn.csv')\n",
    "data"
   ]
  },
  {
   "cell_type": "markdown",
   "id": "sitting-drawing",
   "metadata": {},
   "source": [
    "Divide the data into train and test set"
   ]
  },
  {
   "cell_type": "code",
   "execution_count": 49,
   "id": "minus-thousand",
   "metadata": {},
   "outputs": [],
   "source": [
    "X_train, X_test, y_train, y_test = train_test_split(data['A'],data['f(A)'], train_size=0.5)"
   ]
  },
  {
   "cell_type": "markdown",
   "id": "swiss-narrative",
   "metadata": {},
   "source": [
    "Sort the data"
   ]
  },
  {
   "cell_type": "code",
   "execution_count": 11,
   "id": "automatic-italian",
   "metadata": {},
   "outputs": [],
   "source": [
    "X_train_sort = X_train.sort_values().values.reshape(1,X_train.shape[0])\n",
    "X_test_sort  = X_test.sort_values().values.reshape(1,X_test.shape[0])\n",
    "y_train_sort = y_train.sort_values().values.reshape(1,y_train.shape[0])\n",
    "y_test_sort  = y_test.sort_values().values.reshape(1,y_test.shape[0])"
   ]
  },
  {
   "cell_type": "markdown",
   "id": "changing-congo",
   "metadata": {},
   "source": [
    "Make sure the train and test set has uniform distributions."
   ]
  },
  {
   "cell_type": "code",
   "execution_count": 50,
   "id": "given-combination",
   "metadata": {},
   "outputs": [
    {
     "data": {
      "image/png": "[encoded data removed]",
      "text/plain": [
       "<Figure size 432x288 with 2 Axes>"
      ]
     },
     "metadata": {
      "needs_background": "light"
     },
     "output_type": "display_data"
    }
   ],
   "source": [
    "# Plot data train\n",
    "mpl.rcParams['agg.path.chunksize'] = 10000\n",
    "plt.figure(1)\n",
    "plt.subplot(211)\n",
    "plt.plot(X_train_sort.reshape(X_train_sort.shape[1],1),y_train_sort.reshape(y_train_sort.shape[1],1), label='Train data')\n",
    "plt.legend()\n",
    "plt.ylabel('f(A)')\n",
    "plt.subplot(212)\n",
    "plt.plot(X_test_sort.reshape(X_test_sort.shape[1],1),y_test_sort.reshape(y_test_sort.shape[1],1), label='Test data')\n",
    "plt.legend()\n",
    "plt.ylabel('f(A)')\n",
    "plt.xlabel('A')\n",
    "plt.show()"
   ]
  },
  {
   "cell_type": "markdown",
   "id": "exclusive-majority",
   "metadata": {},
   "source": [
    "## Build neural network\n",
    "\n",
    "### Set number of layer: layer_sizes\n",
    "\n",
    "By inserting the pair of X and Y, we will have three variables:\n",
    "\n",
    "* n_x: size of input layer = 1\n",
    "* n_h: size of hidden layer = 2\n",
    "* n_y: size of output layer = 1"
   ]
  },
  {
   "cell_type": "code",
   "execution_count": 51,
   "id": "developing-palestine",
   "metadata": {},
   "outputs": [],
   "source": [
    "def layer_sizes(X, Y):\n",
    "    \"\"\"\n",
    "    Arguments:\n",
    "    X -- input dataset of shape (input size, number of examples)\n",
    "    Y -- labels of shape (output size, number of examples)\n",
    "    \n",
    "    Returns:\n",
    "    n_x -- the size of the input layer\n",
    "    n_h -- the size of the hidden layer\n",
    "    n_y -- the size of the output layer\n",
    "    \"\"\"\n",
    "    \n",
    "    n_x = X.shape[0]\n",
    "    n_h = 2\n",
    "    n_y = Y.shape[0]\n",
    "\n",
    "    return (n_x, n_h, n_y)"
   ]
  },
  {
   "cell_type": "markdown",
   "id": "mighty-ensemble",
   "metadata": {},
   "source": [
    "Ujikan layer_sizes() dengan memasukkan X_test_sort dan y_test_sort."
   ]
  },
  {
   "cell_type": "code",
   "execution_count": 52,
   "id": "prime-norway",
   "metadata": {},
   "outputs": [
    {
     "data": {
      "text/plain": [
       "(1, 2, 1)"
      ]
     },
     "execution_count": 52,
     "metadata": {},
     "output_type": "execute_result"
    }
   ],
   "source": [
    "layer_sizes(X_test_sort, y_test_sort)"
   ]
  },
  {
   "cell_type": "markdown",
   "id": "english-freeware",
   "metadata": {},
   "source": [
    "## Initialize model parameter : initialize_parameters\n",
    "\n",
    "After getting the size of the input, hidden, and output layers, we will initialize the parameter values. The size of this parameter depends on the size of the layer.\n",
    "\n",
    "* Make sure the parameter size used is correct\n",
    "* Initialize with random values for weights\n",
    "* Initialize with zero value for bias"
   ]
  },
  {
   "cell_type": "code",
   "execution_count": 53,
   "id": "eligible-verse",
   "metadata": {},
   "outputs": [],
   "source": [
    "def initialize_parameters(n_x, n_h, n_y):\n",
    "    \"\"\"\n",
    "    Argument:\n",
    "    n_x -- size of the input layer\n",
    "    n_h -- size of the hidden layer\n",
    "    n_y -- size of the output layer\n",
    "    \n",
    "    Returns:\n",
    "    params -- python dictionary containing your parameters:\n",
    "                    W1 -- weight matrix of shape (n_h, n_x)\n",
    "                    b1 -- bias vector of shape (n_h, 1)\n",
    "                    W2 -- weight matrix of shape (n_y, n_h)\n",
    "                    b2 -- bias vector of shape (n_y, 1)\n",
    "    \"\"\"\n",
    "    \n",
    "    np.random.seed(2) # we set up a seed so that your output matches ours although the initialization is random.\n",
    "    \n",
    "    W1 = np.random.randn(n_h, n_x) * 0.01\n",
    "    b1 = np.zeros((n_h,1))\n",
    "    W2 = np.random.randn(n_y,n_h)* 0.01\n",
    "    b2 = np.zeros((n_y, 1))\n",
    "\n",
    "    parameters = {\"W1\": W1,\n",
    "                  \"b1\": b1,\n",
    "                  \"W2\": W2,\n",
    "                  \"b2\": b2}\n",
    "    \n",
    "    return parameters"
   ]
  },
  {
   "cell_type": "markdown",
   "id": "younger-content",
   "metadata": {},
   "source": [
    "Insert the value of n_x, n_y, and n_h to initialize_parameters()."
   ]
  },
  {
   "cell_type": "code",
   "execution_count": 54,
   "id": "prompt-client",
   "metadata": {},
   "outputs": [
    {
     "data": {
      "text/plain": [
       "{'W1': array([[-0.00416758],\n",
       "        [-0.00056267]]),\n",
       " 'b1': array([[0.],\n",
       "        [0.]]),\n",
       " 'W2': array([[-0.02136196,  0.01640271]]),\n",
       " 'b2': array([[0.]])}"
      ]
     },
     "execution_count": 54,
     "metadata": {},
     "output_type": "execute_result"
    }
   ],
   "source": [
    "n_x, n_h, n_y = layer_sizes(X_test_sort, y_test_sort)\n",
    "initialize_parameters(n_x, n_h, n_y)"
   ]
  },
  {
   "cell_type": "markdown",
   "id": "absent-bandwidth",
   "metadata": {},
   "source": [
    "Check the size of each parameter value."
   ]
  },
  {
   "cell_type": "code",
   "execution_count": 82,
   "id": "elder-generic",
   "metadata": {},
   "outputs": [
    {
     "name": "stdout",
     "output_type": "stream",
     "text": [
      "(2, 1)\n",
      "(2, 1)\n",
      "(1, 2)\n",
      "(1, 1)\n"
     ]
    }
   ],
   "source": [
    "print(initialize_parameters(1, 2, 1)['W1'].shape)\n",
    "print(initialize_parameters(1, 2, 1)['b1'].shape)\n",
    "print(initialize_parameters(1, 2, 1)['W2'].shape)\n",
    "print(initialize_parameters(1, 2, 1)['b2'].shape)"
   ]
  },
  {
   "cell_type": "markdown",
   "id": "efficient-vancouver",
   "metadata": {},
   "source": [
    "## Forward_propagation\n",
    "\n",
    "Implement `forward_propagation` to the equation below:\n",
    "\n",
    "$$Z^{[1]} =  W^{[1]} \\log{X} + b^{[1]}\\tag{1}$$ \n",
    "$$\\hat{Y} = 265 + W^{[2]} (Z^{[1]} + b^{[2]})\\tag{2}$$"
   ]
  },
  {
   "cell_type": "code",
   "execution_count": 83,
   "id": "finite-diagnosis",
   "metadata": {},
   "outputs": [],
   "source": [
    "def forward_propagation(X, parameters):\n",
    "    \"\"\"\n",
    "    Argument:\n",
    "    X -- input data of size (n_x, m)\n",
    "    parameters -- python dictionary containing your parameters (output of initialization function)\n",
    "    \n",
    "    Returns:\n",
    "    A2 -- The sigmoid output of the second activation\n",
    "    cache -- a dictionary containing \"Z1\", \"A1\", \"Z2\" and \"A2\"\n",
    "    \"\"\"\n",
    "    # Retrieve each parameter from the dictionary \"parameters\"\n",
    "    W1 = parameters[\"W1\"]\n",
    "    b1 = parameters[\"b1\"]\n",
    "    W2 = parameters[\"W2\"]\n",
    "    b2 = parameters[\"b2\"]\n",
    "    \n",
    "    Z1 = np.dot(W1, np.log10(X)) + b1\n",
    "    Y_hat = np.dot(W2,Z1) + b2 + np.array([[265]])\n",
    "    \n",
    "    assert(Y_hat.shape == (1, X.shape[1]))\n",
    "    \n",
    "    cache = {\"Z1\": Z1,\n",
    "             \"Y_hat\": Y_hat}\n",
    "    \n",
    "    return Y_hat, cache"
   ]
  },
  {
   "cell_type": "code",
   "execution_count": 84,
   "id": "norwegian-immigration",
   "metadata": {},
   "outputs": [
    {
     "name": "stdout",
     "output_type": "stream",
     "text": [
      "(1, 524287)\n",
      "(2, 524287)\n"
     ]
    }
   ],
   "source": [
    "n_x, n_h, n_y = layer_sizes(X_test_sort, y_test_sort)\n",
    "parameters = initialize_parameters(n_x, n_h, n_y)\n",
    "Y_hat, cache = forward_propagation(X_test_sort, parameters)\n",
    "print(Y_hat.shape)\n",
    "print(cache[\"Z1\"].shape)"
   ]
  },
  {
   "cell_type": "markdown",
   "id": "tight-output",
   "metadata": {},
   "source": [
    "## Calculate Cost\n",
    "\n",
    "After calculating $\\hat{Y}$ value, which is a collection of $\\hat{y}^{(i)}$ then we will calculate the cost function as follows:\n",
    "$$J = \\frac{1}{2m}\\sum_{i=1}^{m}(y^{(i)}-\\hat{y}^{(i)})^2\\tag{3}$$\n",
    "\n",
    "We will implement `compute_cost()` to calcualte cost value **$J$**"
   ]
  },
  {
   "cell_type": "code",
   "execution_count": 85,
   "id": "faced-algebra",
   "metadata": {},
   "outputs": [],
   "source": [
    "# GRADED FUNCTION: compute_cost\n",
    "\n",
    "def compute_cost(Y_hat, Y):\n",
    "    \"\"\"\n",
    "    Computes the squared-error cost given in equation (3)\n",
    "    \n",
    "    Arguments:\n",
    "    Y_hat -- The output of the second activation, of shape (1, number of examples)\n",
    "    Y -- \"true\" labels (1, number of examples)\n",
    "\n",
    "    Returns:\n",
    "    cost -- squared-error cost given equation (3)\n",
    "    \n",
    "    \"\"\"\n",
    "    \n",
    "    m = Y.shape[1] # number of examples\n",
    "\n",
    "    # Compute the squared-error cost\n",
    "    sq_error = (Y - Y_hat)**2\n",
    "    cost = (1/(2*m)) * np.sum(sq_error)\n",
    "    \n",
    "    cost = float(np.squeeze(cost))  # makes sure cost is the dimension we expect. \n",
    "    \n",
    "    return cost"
   ]
  },
  {
   "cell_type": "code",
   "execution_count": 86,
   "id": "structural-information",
   "metadata": {},
   "outputs": [
    {
     "data": {
      "text/plain": [
       "9238.190665285167"
      ]
     },
     "execution_count": 86,
     "metadata": {},
     "output_type": "execute_result"
    }
   ],
   "source": [
    "cost = compute_cost(Y_hat, y_test_sort)\n",
    "cost"
   ]
  },
  {
   "cell_type": "markdown",
   "id": "interracial-sociology",
   "metadata": {},
   "source": [
    "## Implement Backpropagation\n",
    "\n",
    "Implement `backward_propagation()`. Use the calculation results that have been obtained through manual derivation of the formula."
   ]
  },
  {
   "cell_type": "code",
   "execution_count": 87,
   "id": "liberal-spelling",
   "metadata": {},
   "outputs": [],
   "source": [
    "def backward_propagation(parameters, cache, X, Y):\n",
    "    \"\"\"\n",
    "    Implement the backward propagation using the instructions above.\n",
    "    \n",
    "    Arguments:\n",
    "    parameters -- python dictionary containing our parameters \n",
    "    cache -- a dictionary containing \"Z1\", \"A1\", \"Z2\" and \"A2\".\n",
    "    X -- input data of shape (2, number of examples)\n",
    "    Y -- \"true\" labels vector of shape (1, number of examples)\n",
    "    \n",
    "    Returns:\n",
    "    grads -- python dictionary containing your gradients with respect to different parameters\n",
    "    \"\"\"\n",
    "    m = X.shape[1]\n",
    "    \n",
    "    # First, retrieve W1 and W2 from the dictionary \"parameters\".\n",
    "    W1 = parameters[\"W1\"]\n",
    "    W2 = parameters[\"W2\"]\n",
    "        \n",
    "    # Retrieve also A1 and A2 from dictionary \"cache\".\n",
    "    Z1 = cache[\"Z1\"]\n",
    "    Y_hat = cache[\"Y_hat\"]\n",
    "\n",
    "    # Backward propagation: calculate dW1, db1, dW2. \n",
    "    dY_hat = Y_hat - y_test_sort\n",
    "    dW2 = (1/(2*m)) * np.dot(dY_hat,Z1.T)\n",
    "    db2 = dY_hat\n",
    "    dZ1 = np.dot(W2.T, dY_hat)\n",
    "    dW1 = (1/(2*m)) * np.dot(dZ1, np.log10(X).T)\n",
    "    db1 = (1/(2*m)) * dZ1\n",
    "    \n",
    "    grads = {\"dW1\": dW1,\n",
    "             \"db1\": db1,\n",
    "             \"dW2\": dW2,\n",
    "             \"db2\": db2}\n",
    "    \n",
    "    return grads"
   ]
  },
  {
   "cell_type": "code",
   "execution_count": 88,
   "id": "crazy-dylan",
   "metadata": {},
   "outputs": [
    {
     "data": {
      "text/plain": [
       "{'dW1': array([[-4.15561127],\n",
       "        [ 3.19087179]]),\n",
       " 'db1': array([[-3.22633065e-06, -3.22633114e-06, -3.22633142e-06, ...,\n",
       "         -2.60856801e-06, -2.60856801e-06, -2.60856801e-06],\n",
       "        [ 2.47732687e-06,  2.47732724e-06,  2.47732746e-06, ...,\n",
       "          2.00297995e-06,  2.00297995e-06,  2.00297995e-06]]),\n",
       " 'dW2': array([[-0.8107325 , -0.10945768]]),\n",
       " 'db2': array([[158.36778463, 158.36780865, 158.3678227 , ..., 128.04426506,\n",
       "         128.04426506, 128.04426506]])}"
      ]
     },
     "execution_count": 88,
     "metadata": {},
     "output_type": "execute_result"
    }
   ],
   "source": [
    "grads = backward_propagation(parameters, cache, X_test_sort, y_test_sort)\n",
    "grads"
   ]
  },
  {
   "cell_type": "markdown",
   "id": "aging-monaco",
   "metadata": {},
   "source": [
    "## Update parameter value"
   ]
  },
  {
   "cell_type": "code",
   "execution_count": 89,
   "id": "norwegian-silly",
   "metadata": {},
   "outputs": [],
   "source": [
    "def update_parameters(parameters, grads, learning_rate = 0.001):\n",
    "    \"\"\"\n",
    "    Updates parameters using the gradient descent update rule given above\n",
    "    \n",
    "    Arguments:\n",
    "    parameters -- python dictionary containing your parameters \n",
    "    grads -- python dictionary containing your gradients \n",
    "    \n",
    "    Returns:\n",
    "    parameters -- python dictionary containing your updated parameters \n",
    "    \"\"\"\n",
    "    # Retrieve a copy of each parameter from the dictionary \"parameters\". Use copy.deepcopy(...) for W1 and W2\n",
    "    W1 = copy.deepcopy(parameters[\"W1\"])\n",
    "    b1 = parameters[\"b1\"]\n",
    "    W2 = copy.deepcopy(parameters[\"W2\"])\n",
    "    b2 = copy.deepcopy(parameters[\"b2\"])\n",
    "    \n",
    "    # Retrieve each gradient from the dictionary \"grads\"\n",
    "    dW1 = grads[\"dW1\"]\n",
    "    db1 = grads[\"db1\"]\n",
    "    dW2 = grads[\"dW2\"]\n",
    "    db2 = grads[\"db2\"]\n",
    "    \n",
    "    # Update rule for each parameter\n",
    "    W1 = W1 - learning_rate*dW1\n",
    "    b1 = b1 - learning_rate*db1\n",
    "    W2 = W2 - learning_rate*dW2\n",
    "    b2 = b2 - learning_rate*db2\n",
    "    \n",
    "    parameters = {\"W1\": W1,\n",
    "                  \"b1\": b1,\n",
    "                  \"W2\": W2,\n",
    "                  \"b2\": b2\n",
    "                 }\n",
    "    \n",
    "    return parameters"
   ]
  },
  {
   "cell_type": "code",
   "execution_count": 90,
   "id": "alien-percentage",
   "metadata": {},
   "outputs": [
    {
     "data": {
      "text/plain": [
       "{'W1': array([[-1.19672026e-05],\n",
       "        [-3.75354006e-03]]),\n",
       " 'b1': array([[ 3.22633065e-09,  3.22633114e-09,  3.22633142e-09, ...,\n",
       "          2.60856801e-09,  2.60856801e-09,  2.60856801e-09],\n",
       "        [-2.47732687e-09, -2.47732724e-09, -2.47732746e-09, ...,\n",
       "         -2.00297995e-09, -2.00297995e-09, -2.00297995e-09]]),\n",
       " 'W2': array([[-0.02055123,  0.01651217]]),\n",
       " 'b2': array([[-0.15836778, -0.15836781, -0.15836782, ..., -0.12804427,\n",
       "         -0.12804427, -0.12804427]])}"
      ]
     },
     "execution_count": 90,
     "metadata": {},
     "output_type": "execute_result"
    }
   ],
   "source": [
    "parameters = update_parameters(parameters, grads)\n",
    "parameters"
   ]
  },
  {
   "cell_type": "markdown",
   "id": "derived-plumbing",
   "metadata": {},
   "source": [
    "## Integration with neural network model"
   ]
  },
  {
   "cell_type": "code",
   "execution_count": 91,
   "id": "vulnerable-boulder",
   "metadata": {},
   "outputs": [],
   "source": [
    "def nn_model(X, Y, n_h = 2, num_iterations = 5000, print_cost=True):\n",
    "    \"\"\"\n",
    "    Arguments:\n",
    "    X -- dataset of shape (1, number of examples)\n",
    "    Y -- labels of shape (1, number of examples)\n",
    "    n_h -- size of the hidden layer\n",
    "    num_iterations -- Number of iterations in gradient descent loop\n",
    "    print_cost -- if True, print the cost every 100 iterations\n",
    "    \n",
    "    Returns:\n",
    "    parameters -- parameters learnt by the model. They can then be used to predict.\n",
    "    \"\"\"\n",
    "    \n",
    "    np.random.seed(3)\n",
    "    # Set nn size\n",
    "    n_x = layer_sizes(X, Y)[0]\n",
    "    n_y = layer_sizes(X, Y)[2]\n",
    "    # Set parameters value\n",
    "    parameters = initialize_parameters(n_x, n_h, n_y)\n",
    "        \n",
    "    # Loop (gradient descent)\n",
    "    for i in range(0, num_iterations):\n",
    "             \n",
    "        # Forward propagation\n",
    "        Y_hat, cache = forward_propagation(X, parameters)\n",
    "        # Cost function\n",
    "        cost = compute_cost(Y_hat, Y)\n",
    "        # Backpropagation\n",
    "        grads = backward_propagation(parameters, cache, X, Y)\n",
    "        # Gradient descent parameter update\n",
    "        parameters = update_parameters(parameters, grads)\n",
    "\n",
    "        # Print the cost every 100 iterations\n",
    "        if i == 0:\n",
    "            print (\"Start learning process\")\n",
    "            print (\"-------------------------------------\")\n",
    "\n",
    "        \n",
    "        # Print the cost every 100 iterations\n",
    "        if print_cost and i % 100 == 0:\n",
    "            print (\"Cost after iteration %i: %f\" %(i, cost))\n",
    "\n",
    "    return parameters"
   ]
  },
  {
   "cell_type": "code",
   "execution_count": 92,
   "id": "smaller-revision",
   "metadata": {},
   "outputs": [
    {
     "name": "stdout",
     "output_type": "stream",
     "text": [
      "Start learning process\n",
      "-------------------------------------\n",
      "Cost after iteration 0: 9238.190665\n",
      "Cost after iteration 100: 292.623262\n",
      "Cost after iteration 200: 239.553676\n",
      "Cost after iteration 300: 196.108688\n",
      "Cost after iteration 400: 160.542797\n",
      "Cost after iteration 500: 131.427068\n",
      "Cost after iteration 600: 107.591711\n",
      "Cost after iteration 700: 88.079087\n",
      "Cost after iteration 800: 72.105235\n",
      "Cost after iteration 900: 59.028370\n",
      "Cost after iteration 1000: 48.323100\n",
      "Cost after iteration 1100: 39.559316\n",
      "Cost after iteration 1200: 32.384916\n",
      "Cost after iteration 1300: 26.511650\n",
      "Cost after iteration 1400: 21.703549\n",
      "Cost after iteration 1500: 17.767435\n",
      "Cost after iteration 1600: 14.545168\n",
      "Cost after iteration 1700: 11.907285\n",
      "Cost after iteration 1800: 9.747803\n",
      "Cost after iteration 1900: 7.979960\n",
      "Cost after iteration 2000: 6.532730\n",
      "Cost after iteration 2100: 5.347967\n",
      "Cost after iteration 2200: 4.378070\n",
      "Cost after iteration 2300: 3.584072\n",
      "Cost after iteration 2400: 2.934071\n",
      "Cost after iteration 2500: 2.401954\n",
      "Cost after iteration 2600: 1.966340\n",
      "Cost after iteration 2700: 1.609729\n",
      "Cost after iteration 2800: 1.317791\n",
      "Cost after iteration 2900: 1.078799\n",
      "Cost after iteration 3000: 0.883150\n",
      "Cost after iteration 3100: 0.722984\n",
      "Cost after iteration 3200: 0.591865\n",
      "Cost after iteration 3300: 0.484525\n",
      "Cost after iteration 3400: 0.396653\n",
      "Cost after iteration 3500: 0.324717\n",
      "Cost after iteration 3600: 0.265827\n",
      "Cost after iteration 3700: 0.217617\n",
      "Cost after iteration 3800: 0.178150\n",
      "Cost after iteration 3900: 0.145841\n",
      "Cost after iteration 4000: 0.119392\n",
      "Cost after iteration 4100: 0.097739\n",
      "Cost after iteration 4200: 0.080013\n",
      "Cost after iteration 4300: 0.065502\n",
      "Cost after iteration 4400: 0.053623\n",
      "Cost after iteration 4500: 0.043898\n",
      "Cost after iteration 4600: 0.035937\n",
      "Cost after iteration 4700: 0.029419\n",
      "Cost after iteration 4800: 0.024084\n",
      "Cost after iteration 4900: 0.019716\n"
     ]
    }
   ],
   "source": [
    "parameters = nn_model(X_test_sort, y_test_sort)"
   ]
  },
  {
   "cell_type": "code",
   "execution_count": 93,
   "id": "attractive-singapore",
   "metadata": {},
   "outputs": [],
   "source": [
    "def prediction(parameters, X):\n",
    "    Z1 = np.dot(parameters[\"W1\"], np.log10(X)) + parameters['b1']\n",
    "    Y_hat = np.dot(parameters[\"W2\"],Z1) + parameters['b2'] + np.array([[265]])\n",
    "    return Y_hat"
   ]
  },
  {
   "cell_type": "code",
   "execution_count": 94,
   "id": "conceptual-stable",
   "metadata": {},
   "outputs": [],
   "source": [
    "Y_hat = prediction(parameters, X_train_sort)"
   ]
  },
  {
   "cell_type": "code",
   "execution_count": 95,
   "id": "robust-trauma",
   "metadata": {},
   "outputs": [
    {
     "data": {
      "text/plain": [
       "array([[ 64.48102409,  74.15958791,  80.33014495, ..., 136.79749629,\n",
       "        136.79749617, 136.79747767]])"
      ]
     },
     "execution_count": 95,
     "metadata": {},
     "output_type": "execute_result"
    }
   ],
   "source": [
    "Y_hat"
   ]
  },
  {
   "cell_type": "code",
   "execution_count": 97,
   "id": "extra-diary",
   "metadata": {},
   "outputs": [
    {
     "data": {
      "image/png": "[encoded data removed]",
      "text/plain": [
       "<Figure size 432x288 with 1 Axes>"
      ]
     },
     "metadata": {
      "needs_background": "light"
     },
     "output_type": "display_data"
    }
   ],
   "source": [
    "# Plot data\n",
    "mpl.rcParams['agg.path.chunksize'] = 10000 # supaya bisa baca data ukuran banyak\n",
    "plt.plot(X_test_sort.reshape(X_train_sort.shape[1],1)[1000:],Y_hat.reshape(Y_hat.shape[1],1)[1000:], label='Prediction data')\n",
    "plt.plot(X_test_sort.reshape(X_train_sort.shape[1],1),y_train_sort.reshape(y_test_sort.shape[1],1), label='Test data')\n",
    "plt.legend()\n",
    "plt.ylabel('f(A)')\n",
    "plt.xlabel('A')\n",
    "plt.show()"
   ]
  },
  {
   "cell_type": "markdown",
   "id": "minus-weekly",
   "metadata": {},
   "source": [
    "---------------------------------------------------------------------------------------------------------------------------"
   ]
  },
  {
   "cell_type": "markdown",
   "id": "roman-subsection",
   "metadata": {},
   "source": [
    "Now we will try to convert the parameters we got into PL() equation"
   ]
  },
  {
   "cell_type": "code",
   "execution_count": 98,
   "id": "mexican-starter",
   "metadata": {},
   "outputs": [],
   "source": [
    "# PARAMETER W LAYER 2\n",
    "W2 = parameters['W2']\n",
    "# parameter W1 layer 2\n",
    "W1_2 = W2[0][0]\n",
    "# parameter W2 layer 2\n",
    "W2_2 = W2[0][1]"
   ]
  },
  {
   "cell_type": "code",
   "execution_count": 99,
   "id": "emerging-catholic",
   "metadata": {},
   "outputs": [],
   "source": [
    "# PARAMETER W LAYER 1\n",
    "W1 = parameters['W1']\n",
    "# parameter W1 layer 2\n",
    "W1_1 = W1[0][0]\n",
    "# parameter W1 layer 2\n",
    "W2_1 = W1[1][0]"
   ]
  },
  {
   "cell_type": "code",
   "execution_count": 100,
   "id": "fuzzy-crazy",
   "metadata": {},
   "outputs": [],
   "source": [
    "# PARAMETER b LAYER 2\n",
    "b_2 = parameters['b2']"
   ]
  },
  {
   "cell_type": "code",
   "execution_count": 101,
   "id": "suffering-internship",
   "metadata": {},
   "outputs": [],
   "source": [
    "# PARAMETER b LAYER 1\n",
    "b1 = parameters['b1']\n",
    "# parameter b1 layer 1\n",
    "b1_1 = b1[0]\n",
    "# parameter b2 layer 1\n",
    "b2_1 = b1[1]"
   ]
  },
  {
   "cell_type": "code",
   "execution_count": 102,
   "id": "fitted-anchor",
   "metadata": {},
   "outputs": [
    {
     "data": {
      "text/plain": [
       "array([[142.58413557, 142.49179018, 142.43777158, ..., 170.85745981,\n",
       "        170.85745968, 170.85745943]])"
      ]
     },
     "execution_count": 102,
     "metadata": {},
     "output_type": "execute_result"
    }
   ],
   "source": [
    "W1_2*b1_1 + W2_2*b2_1 + b_2 + (W1_2*W1_1 + W2_2*W2_1)*np.log10(X_test_sort) + np.array([[299.06]])"
   ]
  },
  {
   "cell_type": "code",
   "execution_count": 103,
   "id": "figured-blond",
   "metadata": {},
   "outputs": [],
   "source": [
    "x1 = W1_2*b1_1 + W2_2*b2_1\n",
    "x2 = b_2\n",
    "x3 = W1_2*W1_1 + W2_2*W2_1"
   ]
  },
  {
   "cell_type": "markdown",
   "id": "b28a7a35",
   "metadata": {},
   "source": [
    "## Estimated value of $x_{1}$"
   ]
  },
  {
   "cell_type": "code",
   "execution_count": 105,
   "id": "soviet-default",
   "metadata": {},
   "outputs": [
    {
     "data": {
      "text/plain": [
       "array([-0.0113481 , -0.01079593, -0.01047293, ...,  0.00092032,\n",
       "        0.00092032,  0.00092032])"
      ]
     },
     "execution_count": 105,
     "metadata": {},
     "output_type": "execute_result"
    }
   ],
   "source": [
    "x1"
   ]
  },
  {
   "cell_type": "markdown",
   "id": "0a32bf71",
   "metadata": {},
   "source": [
    "## Estimated value of $x_{2}$"
   ]
  },
  {
   "cell_type": "code",
   "execution_count": 106,
   "id": "amazing-principle",
   "metadata": {},
   "outputs": [
    {
     "data": {
      "text/plain": [
       "array([[-275.33555312, -262.17015302, -254.46888766, ...,   18.0913829 ,\n",
       "          18.09140102,   18.09143725]])"
      ]
     },
     "execution_count": 106,
     "metadata": {},
     "output_type": "execute_result"
    }
   ],
   "source": [
    "x2"
   ]
  },
  {
   "cell_type": "markdown",
   "id": "b83e00b6",
   "metadata": {},
   "source": [
    "## Estimated value of $x_{3}$"
   ]
  },
  {
   "cell_type": "code",
   "execution_count": 104,
   "id": "handed-victory",
   "metadata": {},
   "outputs": [
    {
     "data": {
      "text/plain": [
       "-44.04311148080923"
      ]
     },
     "execution_count": 104,
     "metadata": {},
     "output_type": "execute_result"
    }
   ],
   "source": [
    "x3"
   ]
  },
  {
   "cell_type": "code",
   "execution_count": null,
   "id": "eastern-classic",
   "metadata": {},
   "outputs": [],
   "source": []
  },
  {
   "cell_type": "code",
   "execution_count": null,
   "id": "9076ede7",
   "metadata": {},
   "outputs": [],
   "source": []
  }
 ],
 "metadata": {
  "kernelspec": {
   "display_name": "Python 3 (ipykernel)",
   "language": "python",
   "name": "python3"
  },
  "language_info": {
   "codemirror_mode": {
    "name": "ipython",
    "version": 3
   },
   "file_extension": ".py",
   "mimetype": "text/x-python",
   "name": "python",
   "nbconvert_exporter": "python",
   "pygments_lexer": "ipython3",
   "version": "3.9.12"
  }
 },
 "nbformat": 4,
 "nbformat_minor": 5
}
